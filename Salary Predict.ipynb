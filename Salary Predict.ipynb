{
 "cells": [
  {
   "cell_type": "markdown",
   "metadata": {},
   "source": [
    "<h2>Here I am using a dataset which has years of experience and salary accordingly, using Regression model, we are predicting the salary</h2>"
   ]
  },
  {
   "cell_type": "code",
   "execution_count": 12,
   "metadata": {},
   "outputs": [
    {
     "name": "stdout",
     "output_type": "stream",
     "text": [
      "   YearsExperience   Salary\n",
      "0              1.1  39343.0\n",
      "1              1.3  46205.0\n",
      "2              1.5  37731.0\n",
      "3              2.0  43525.0\n",
      "4              2.2  39891.0\n"
     ]
    }
   ],
   "source": [
    "import pandas as pd\n",
    "import numpy as np\n",
    "import plotly.express as px\n",
    "import plotly.graph_objects as go\n",
    "df = pd.read_csv(r\"C:\\Users\\Ashwin.m\\OneDrive\\Desktop\\projects that have done\\Proj\\Salary_Data.csv\")\n",
    "print(df.head())\n"
   ]
  },
  {
   "cell_type": "code",
   "execution_count": 7,
   "metadata": {},
   "outputs": [
    {
     "name": "stdout",
     "output_type": "stream",
     "text": [
      "YearsExperience    0\n",
      "Salary             0\n",
      "dtype: int64\n"
     ]
    }
   ],
   "source": [
    "#Checking if there are null values\n",
    "print(df.isnull().sum())"
   ]
  },
  {
   "cell_type": "code",
   "execution_count": 8,
   "metadata": {},
   "outputs": [
    {
     "data": {
      "text/plain": [
       "LinearRegression()"
      ]
     },
     "execution_count": 8,
     "metadata": {},
     "output_type": "execute_result"
    }
   ],
   "source": [
    "#ML Model used here is Regression Model\n",
    "from sklearn.model_selection import train_test_split\n",
    "from sklearn.linear_model import LinearRegression\n",
    "\n",
    "x = np.asanyarray(df[[\"YearsExperience\"]])\n",
    "y = np.asanyarray(df[[\"Salary\"]])\n",
    "xtrain, xtest, ytrain, ytest = train_test_split(x, y, \n",
    "                                                test_size=0.2, \n",
    "                                                random_state=42)\n",
    "model = LinearRegression()\n",
    "model.fit(xtrain, ytrain)\n"
   ]
  },
  {
   "cell_type": "code",
   "execution_count": 10,
   "metadata": {},
   "outputs": [
    {
     "name": "stdout",
     "output_type": "stream",
     "text": [
      "Years of Experience : 5\n",
      "Predicted Salary =  [[72440.65962693]]\n"
     ]
    }
   ],
   "source": [
    "#now trying to use the model\n",
    "year = float(input(\"Years of Experience : \"))\n",
    "f = np.array([[year]])\n",
    "print(\"Predicted Salary = \", model.predict(f))"
   ]
  },
  {
   "cell_type": "code",
   "execution_count": null,
   "metadata": {},
   "outputs": [],
   "source": []
  }
 ],
 "metadata": {
  "kernelspec": {
   "display_name": "Python 3",
   "language": "python",
   "name": "python3"
  }
 },
 "nbformat": 4,
 "nbformat_minor": 4
}
